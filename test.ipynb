{
 "metadata": {
  "language_info": {
   "codemirror_mode": {
    "name": "ipython",
    "version": 3
   },
   "file_extension": ".py",
   "mimetype": "text/x-python",
   "name": "python",
   "nbconvert_exporter": "python",
   "pygments_lexer": "ipython3",
   "version": "3.8.7-final"
  },
  "orig_nbformat": 2,
  "kernelspec": {
   "name": "python3",
   "display_name": "Python 3.8.7 64-bit",
   "metadata": {
    "interpreter": {
     "hash": "b7659573bf1b6290a1623a93682b8c124891d9e8a5abd4ba926bfdf7da92de9f"
    }
   }
  }
 },
 "nbformat": 4,
 "nbformat_minor": 2,
 "cells": [
  {
   "source": [
    "# Test."
   ],
   "cell_type": "markdown",
   "metadata": {}
  },
  {
   "cell_type": "code",
   "execution_count": 1,
   "metadata": {},
   "outputs": [],
   "source": [
    "from tensorflow.keras.models import Sequential\n",
    "from tensorflow.keras.layers import Dense, Dropout, Activation, Flatten\n",
    "from tensorflow.keras.layers import Conv2D, MaxPooling2D\n",
    "from tensorflow.keras.callbacks import TensorBoard\n",
    "import pickle\n",
    "import time"
   ]
  },
  {
   "cell_type": "code",
   "execution_count": 2,
   "metadata": {},
   "outputs": [],
   "source": [
    "X = pickle.load(open(\"X.pickle\", \"rb\"))\n",
    "y = pickle.load(open(\"y.pickle\", \"rb\"))\n",
    "X = X/255.0"
   ]
  },
  {
   "cell_type": "code",
   "execution_count": 3,
   "metadata": {},
   "outputs": [],
   "source": [
    "dense_layer = 0\n",
    "layer_size = 64\n",
    "conv_layer = 3"
   ]
  },
  {
   "cell_type": "code",
   "execution_count": 4,
   "metadata": {},
   "outputs": [
    {
     "output_type": "stream",
     "name": "stdout",
     "text": [
      "Epoch 1/5\n",
      "702/702 [==============================] - 59s 83ms/step - loss: 0.6731 - accuracy: 0.5574 - val_loss: 0.5735 - val_accuracy: 0.7062\n",
      "Epoch 2/5\n",
      "702/702 [==============================] - 59s 84ms/step - loss: 0.5415 - accuracy: 0.7269 - val_loss: 0.5184 - val_accuracy: 0.7431\n",
      "Epoch 3/5\n",
      "702/702 [==============================] - 62s 89ms/step - loss: 0.4813 - accuracy: 0.7657 - val_loss: 0.4767 - val_accuracy: 0.7723\n",
      "Epoch 4/5\n",
      "702/702 [==============================] - 66s 94ms/step - loss: 0.4426 - accuracy: 0.7941 - val_loss: 0.4516 - val_accuracy: 0.7912\n",
      "Epoch 5/5\n",
      "702/702 [==============================] - 66s 94ms/step - loss: 0.4082 - accuracy: 0.8160 - val_loss: 0.4413 - val_accuracy: 0.7860\n"
     ]
    }
   ],
   "source": [
    "model = Sequential()\n",
    "\n",
    "model.add(Conv2D(layer_size,(3,3),input_shape = X.shape[1:]))\n",
    "model.add(Activation(\"relu\"))\n",
    "model.add(MaxPooling2D(pool_size=(2,2)))\n",
    "\n",
    "for _ in range(conv_layer-1):\n",
    "    model.add(Conv2D(layer_size,(3,3)))\n",
    "    model.add(Activation(\"relu\"))\n",
    "    model.add(MaxPooling2D(pool_size=(2,2)))\n",
    "\n",
    "model.add(Flatten())\n",
    "\n",
    "for _ in range(dense_layer):\n",
    "    model.add(Dense(layer_size))\n",
    "    model.add(Activation(\"relu\"))\n",
    "\n",
    "# output layer.\n",
    "model.add(Dense(1))\n",
    "model.add(Activation('sigmoid'))\n",
    "\n",
    "model.compile(optimizer=\"adam\", \n",
    "            loss=\"binary_crossentropy\",\n",
    "            metrics=['accuracy'])\n",
    "\n",
    "model.fit(X, y,\n",
    "        batch_size=32, epochs=5,\n",
    "        validation_split=0.1,\n",
    "        callbacks=[tensorboard])"
   ]
  },
  {
   "source": [
    "model.save('64x3-CNN.model')"
   ],
   "cell_type": "code",
   "metadata": {},
   "execution_count": 5,
   "outputs": [
    {
     "output_type": "stream",
     "name": "stdout",
     "text": [
      "INFO:tensorflow:Assets written to: 64x3-CNN.model\\assets\n"
     ]
    }
   ]
  },
  {
   "cell_type": "code",
   "execution_count": 6,
   "metadata": {},
   "outputs": [],
   "source": [
    "import cv2\n",
    "import tensorflow as tf\n",
    "\n",
    "CATEGORIES = [\"Dog\",\"Cat\"]"
   ]
  },
  {
   "cell_type": "code",
   "execution_count": 7,
   "metadata": {},
   "outputs": [],
   "source": [
    "def prepare(filepath):\n",
    "    IMG_SIZE = 50\n",
    "    img_array = cv2.imread(filepath,cv2.IMREAD_GRAYSCALE)\n",
    "    new_array = cv2.resize(img_array,(IMG_SIZE,IMG_SIZE))\n",
    "    return new_array.reshape(-1,IMG_SIZE,IMG_SIZE,1)"
   ]
  },
  {
   "cell_type": "code",
   "execution_count": 8,
   "metadata": {},
   "outputs": [
    {
     "output_type": "stream",
     "name": "stdout",
     "text": [
      "[[7.2943494e-20]]\nDog\n"
     ]
    }
   ],
   "source": [
    "model = tf.keras.models.load_model(\"64x3-CNN.model\")\n",
    "prediction = model.predict([prepare('cat.jpg')])\n",
    "print(prediction)\n",
    "print(CATEGORIES[int(prediction[0][0])])"
   ]
  }
 ]
}